{
 "cells": [
  {
   "cell_type": "code",
   "execution_count": 1,
   "id": "dcb44add",
   "metadata": {},
   "outputs": [],
   "source": [
    "with open('input.txt' , \"r\"  , encoding='utf-8') as f:\n",
    "    text = f.read()\n",
    "    \n",
    "\n"
   ]
  },
  {
   "cell_type": "code",
   "execution_count": 2,
   "id": "288e9a76",
   "metadata": {},
   "outputs": [
    {
     "name": "stdout",
     "output_type": "stream",
     "text": [
      "Length of text : 1115394\n"
     ]
    }
   ],
   "source": [
    "print(f\"Length of text : {len(text)}\")"
   ]
  },
  {
   "cell_type": "code",
   "execution_count": 3,
   "id": "8ed83532",
   "metadata": {},
   "outputs": [
    {
     "name": "stdout",
     "output_type": "stream",
     "text": [
      "First Citizen:\n",
      "Before we proceed any further, hear me speak.\n",
      "\n",
      "All:\n",
      "Speak, speak.\n",
      "\n",
      "First Citizen:\n",
      "You\n"
     ]
    }
   ],
   "source": [
    "print(text[:100])"
   ]
  },
  {
   "cell_type": "code",
   "execution_count": 4,
   "id": "82ef0b95",
   "metadata": {},
   "outputs": [
    {
     "name": "stdout",
     "output_type": "stream",
     "text": [
      "Unique characters : 65\n"
     ]
    }
   ],
   "source": [
    "unique_chars = sorted(list(set(text)))\n",
    "print(f\"Unique characters : {len(unique_chars)}\")"
   ]
  },
  {
   "cell_type": "code",
   "execution_count": 5,
   "id": "55322c33",
   "metadata": {},
   "outputs": [
    {
     "name": "stdout",
     "output_type": "stream",
     "text": [
      "Vocab size : 65\n"
     ]
    }
   ],
   "source": [
    "vocab_size = len(unique_chars)\n",
    "print(f\"Vocab size : {vocab_size}\")"
   ]
  },
  {
   "cell_type": "code",
   "execution_count": 6,
   "id": "f5228b15",
   "metadata": {},
   "outputs": [
    {
     "name": "stdout",
     "output_type": "stream",
     "text": [
      "\n",
      " !$&',-.3:;?ABCDEFGHIJKLMNOPQRSTUVWXYZabcdefghijklmnopqrstuvwxyz\n"
     ]
    }
   ],
   "source": [
    "print(\"\".join(unique_chars))"
   ]
  },
  {
   "cell_type": "code",
   "execution_count": 7,
   "id": "f8901723",
   "metadata": {},
   "outputs": [],
   "source": [
    "stoi = {ch: i for i, ch in enumerate(unique_chars)}\n",
    "itos = {i: ch for i, ch in enumerate(unique_chars)}\n",
    "\n"
   ]
  },
  {
   "cell_type": "code",
   "execution_count": 8,
   "id": "5234d3a3",
   "metadata": {},
   "outputs": [
    {
     "name": "stdout",
     "output_type": "stream",
     "text": [
      "{'\\n': 0, ' ': 1, '!': 2, '$': 3, '&': 4, \"'\": 5, ',': 6, '-': 7, '.': 8, '3': 9, ':': 10, ';': 11, '?': 12, 'A': 13, 'B': 14, 'C': 15, 'D': 16, 'E': 17, 'F': 18, 'G': 19, 'H': 20, 'I': 21, 'J': 22, 'K': 23, 'L': 24, 'M': 25, 'N': 26, 'O': 27, 'P': 28, 'Q': 29, 'R': 30, 'S': 31, 'T': 32, 'U': 33, 'V': 34, 'W': 35, 'X': 36, 'Y': 37, 'Z': 38, 'a': 39, 'b': 40, 'c': 41, 'd': 42, 'e': 43, 'f': 44, 'g': 45, 'h': 46, 'i': 47, 'j': 48, 'k': 49, 'l': 50, 'm': 51, 'n': 52, 'o': 53, 'p': 54, 'q': 55, 'r': 56, 's': 57, 't': 58, 'u': 59, 'v': 60, 'w': 61, 'x': 62, 'y': 63, 'z': 64}\n"
     ]
    }
   ],
   "source": [
    "print(stoi)"
   ]
  },
  {
   "cell_type": "code",
   "execution_count": 9,
   "id": "f74dce74",
   "metadata": {},
   "outputs": [
    {
     "name": "stdout",
     "output_type": "stream",
     "text": [
      "[46, 43, 50, 50, 53, 1, 61, 53, 56, 50, 42]\n",
      "hello world\n"
     ]
    }
   ],
   "source": [
    "encode = lambda s : [stoi[c] for c in s]\n",
    "decode = lambda l : \"\".join([itos[i] for i in l])\n",
    "\n",
    "print(encode(\"hello world\"))\n",
    "print(decode(encode(\"hello world\")))"
   ]
  },
  {
   "cell_type": "code",
   "execution_count": 10,
   "id": "b8c9463b",
   "metadata": {},
   "outputs": [
    {
     "name": "stdout",
     "output_type": "stream",
     "text": [
      "Mon May  5 11:25:21 2025       \n",
      "+---------------------------------------------------------------------------------------+\n",
      "| NVIDIA-SMI 535.171.04             Driver Version: 535.171.04   CUDA Version: 12.2     |\n",
      "|-----------------------------------------+----------------------+----------------------+\n",
      "| GPU  Name                 Persistence-M | Bus-Id        Disp.A | Volatile Uncorr. ECC |\n",
      "| Fan  Temp   Perf          Pwr:Usage/Cap |         Memory-Usage | GPU-Util  Compute M. |\n",
      "|                                         |                      |               MIG M. |\n",
      "|=========================================+======================+======================|\n",
      "|   0  NVIDIA GeForce RTX 3090        Off | 00000000:1B:00.0 Off |                  N/A |\n",
      "|  0%   38C    P8              29W / 350W |     10MiB / 24576MiB |      0%      Default |\n",
      "|                                         |                      |                  N/A |\n",
      "+-----------------------------------------+----------------------+----------------------+\n",
      "|   1  NVIDIA GeForce RTX 3090 Ti     Off | 00000000:1E:00.0 Off |                  Off |\n",
      "|  0%   38C    P8              21W / 450W |     10MiB / 24564MiB |      0%      Default |\n",
      "|                                         |                      |                  N/A |\n",
      "+-----------------------------------------+----------------------+----------------------+\n",
      "|   2  NVIDIA GeForce RTX 3090        Off | 00000000:3F:00.0 Off |                  N/A |\n",
      "|  0%   34C    P8              26W / 350W |     10MiB / 24576MiB |      0%      Default |\n",
      "|                                         |                      |                  N/A |\n",
      "+-----------------------------------------+----------------------+----------------------+\n",
      "|   3  NVIDIA GeForce RTX 3090        Off | 00000000:40:00.0 Off |                  N/A |\n",
      "|  0%   35C    P8              17W / 350W |     10MiB / 24576MiB |      0%      Default |\n",
      "|                                         |                      |                  N/A |\n",
      "+-----------------------------------------+----------------------+----------------------+\n",
      "                                                                                         \n",
      "+---------------------------------------------------------------------------------------+\n",
      "| Processes:                                                                            |\n",
      "|  GPU   GI   CI        PID   Type   Process name                            GPU Memory |\n",
      "|        ID   ID                                                             Usage      |\n",
      "|=======================================================================================|\n",
      "|    0   N/A  N/A      5413      G   /usr/lib/xorg/Xorg                            4MiB |\n",
      "|    1   N/A  N/A      5413      G   /usr/lib/xorg/Xorg                            4MiB |\n",
      "|    2   N/A  N/A      5413      G   /usr/lib/xorg/Xorg                            4MiB |\n",
      "|    3   N/A  N/A      5413      G   /usr/lib/xorg/Xorg                            4MiB |\n",
      "+---------------------------------------------------------------------------------------+\n"
     ]
    }
   ],
   "source": [
    "!nvidia-smi"
   ]
  },
  {
   "cell_type": "code",
   "execution_count": 12,
   "id": "0388ab8e",
   "metadata": {},
   "outputs": [],
   "source": [
    "import torch\n",
    "data = torch.tensor(encode(text) , dtype = torch.long)\n"
   ]
  },
  {
   "cell_type": "code",
   "execution_count": 13,
   "id": "93da3fc0",
   "metadata": {},
   "outputs": [
    {
     "data": {
      "text/plain": [
       "torch.Size([1115394])"
      ]
     },
     "execution_count": 13,
     "metadata": {},
     "output_type": "execute_result"
    }
   ],
   "source": [
    "data.shape"
   ]
  },
  {
   "cell_type": "code",
   "execution_count": 14,
   "id": "ed94db9a",
   "metadata": {},
   "outputs": [
    {
     "data": {
      "text/plain": [
       "tensor([18, 47, 56, 57, 58,  1, 15, 47, 58, 47, 64, 43, 52, 10,  0, 14, 43, 44,\n",
       "        53, 56, 43,  1, 61, 43,  1, 54, 56, 53, 41, 43, 43, 42,  1, 39, 52, 63,\n",
       "         1, 44, 59, 56, 58, 46, 43, 56,  6,  1, 46, 43, 39, 56,  1, 51, 43,  1,\n",
       "        57, 54, 43, 39, 49,  8,  0,  0, 13, 50, 50, 10,  0, 31, 54, 43, 39, 49,\n",
       "         6,  1, 57, 54, 43, 39, 49,  8,  0,  0, 18, 47, 56, 57, 58,  1, 15, 47,\n",
       "        58, 47, 64, 43, 52, 10,  0, 37, 53, 59])"
      ]
     },
     "execution_count": 14,
     "metadata": {},
     "output_type": "execute_result"
    }
   ],
   "source": [
    "data[:100]"
   ]
  },
  {
   "cell_type": "code",
   "execution_count": 15,
   "id": "ddf87787",
   "metadata": {},
   "outputs": [],
   "source": [
    "n =  int(0.9 * len(data))\n",
    "train_data = data[:n]\n",
    "val_data = data[n:]\n",
    "\n"
   ]
  },
  {
   "cell_type": "code",
   "execution_count": 16,
   "id": "12f87956",
   "metadata": {},
   "outputs": [
    {
     "data": {
      "text/plain": [
       "torch.Size([1003854])"
      ]
     },
     "execution_count": 16,
     "metadata": {},
     "output_type": "execute_result"
    }
   ],
   "source": [
    "train_data.shape"
   ]
  },
  {
   "cell_type": "code",
   "execution_count": 17,
   "id": "be1817d3",
   "metadata": {},
   "outputs": [
    {
     "data": {
      "text/plain": [
       "torch.Size([111540])"
      ]
     },
     "execution_count": 17,
     "metadata": {},
     "output_type": "execute_result"
    }
   ],
   "source": [
    "val_data.shape"
   ]
  },
  {
   "cell_type": "code",
   "execution_count": 18,
   "id": "50aab2c5",
   "metadata": {},
   "outputs": [],
   "source": [
    "block_size = 8"
   ]
  },
  {
   "cell_type": "code",
   "execution_count": 20,
   "id": "de81d6d3",
   "metadata": {},
   "outputs": [
    {
     "name": "stdout",
     "output_type": "stream",
     "text": [
      "input: tensor([24]) target: 43\n",
      "input: tensor([24, 43]) target: 58\n",
      "input: tensor([24, 43, 58]) target: 5\n",
      "input: tensor([24, 43, 58,  5]) target: 57\n",
      "input: tensor([24, 43, 58,  5, 57]) target: 1\n",
      "input: tensor([24, 43, 58,  5, 57,  1]) target: 46\n",
      "input: tensor([24, 43, 58,  5, 57,  1, 46]) target: 43\n",
      "input: tensor([24, 43, 58,  5, 57,  1, 46, 43]) target: 39\n",
      "input: tensor([44]) target: 53\n",
      "input: tensor([44, 53]) target: 56\n",
      "input: tensor([44, 53, 56]) target: 1\n",
      "input: tensor([44, 53, 56,  1]) target: 58\n",
      "input: tensor([44, 53, 56,  1, 58]) target: 46\n",
      "input: tensor([44, 53, 56,  1, 58, 46]) target: 39\n",
      "input: tensor([44, 53, 56,  1, 58, 46, 39]) target: 58\n",
      "input: tensor([44, 53, 56,  1, 58, 46, 39, 58]) target: 1\n",
      "input: tensor([52]) target: 58\n",
      "input: tensor([52, 58]) target: 1\n",
      "input: tensor([52, 58,  1]) target: 58\n",
      "input: tensor([52, 58,  1, 58]) target: 46\n",
      "input: tensor([52, 58,  1, 58, 46]) target: 39\n",
      "input: tensor([52, 58,  1, 58, 46, 39]) target: 58\n",
      "input: tensor([52, 58,  1, 58, 46, 39, 58]) target: 1\n",
      "input: tensor([52, 58,  1, 58, 46, 39, 58,  1]) target: 46\n",
      "input: tensor([25]) target: 17\n",
      "input: tensor([25, 17]) target: 27\n",
      "input: tensor([25, 17, 27]) target: 10\n",
      "input: tensor([25, 17, 27, 10]) target: 0\n",
      "input: tensor([25, 17, 27, 10,  0]) target: 21\n",
      "input: tensor([25, 17, 27, 10,  0, 21]) target: 1\n",
      "input: tensor([25, 17, 27, 10,  0, 21,  1]) target: 54\n",
      "input: tensor([25, 17, 27, 10,  0, 21,  1, 54]) target: 39\n",
      "input: tensor([57]) target: 43\n",
      "input: tensor([57, 43]) target: 60\n",
      "input: tensor([57, 43, 60]) target: 43\n",
      "input: tensor([57, 43, 60, 43]) target: 52\n",
      "input: tensor([57, 43, 60, 43, 52]) target: 1\n",
      "input: tensor([57, 43, 60, 43, 52,  1]) target: 63\n",
      "input: tensor([57, 43, 60, 43, 52,  1, 63]) target: 43\n",
      "input: tensor([57, 43, 60, 43, 52,  1, 63, 43]) target: 39\n",
      "input: tensor([60]) target: 43\n",
      "input: tensor([60, 43]) target: 42\n",
      "input: tensor([60, 43, 42]) target: 8\n",
      "input: tensor([60, 43, 42,  8]) target: 0\n",
      "input: tensor([60, 43, 42,  8,  0]) target: 25\n",
      "input: tensor([60, 43, 42,  8,  0, 25]) target: 63\n",
      "input: tensor([60, 43, 42,  8,  0, 25, 63]) target: 1\n",
      "input: tensor([60, 43, 42,  8,  0, 25, 63,  1]) target: 45\n",
      "input: tensor([56]) target: 42\n",
      "input: tensor([56, 42]) target: 5\n",
      "input: tensor([56, 42,  5]) target: 57\n",
      "input: tensor([56, 42,  5, 57]) target: 1\n",
      "input: tensor([56, 42,  5, 57,  1]) target: 57\n",
      "input: tensor([56, 42,  5, 57,  1, 57]) target: 39\n",
      "input: tensor([56, 42,  5, 57,  1, 57, 39]) target: 49\n",
      "input: tensor([56, 42,  5, 57,  1, 57, 39, 49]) target: 43\n",
      "input: tensor([43]) target: 57\n",
      "input: tensor([43, 57]) target: 58\n",
      "input: tensor([43, 57, 58]) target: 63\n",
      "input: tensor([43, 57, 58, 63]) target: 6\n",
      "input: tensor([43, 57, 58, 63,  6]) target: 1\n",
      "input: tensor([43, 57, 58, 63,  6,  1]) target: 58\n",
      "input: tensor([43, 57, 58, 63,  6,  1, 58]) target: 46\n",
      "input: tensor([43, 57, 58, 63,  6,  1, 58, 46]) target: 47\n",
      "input: tensor([43]) target: 1\n",
      "input: tensor([43,  1]) target: 51\n",
      "input: tensor([43,  1, 51]) target: 39\n",
      "input: tensor([43,  1, 51, 39]) target: 63\n",
      "input: tensor([43,  1, 51, 39, 63]) target: 1\n",
      "input: tensor([43,  1, 51, 39, 63,  1]) target: 40\n",
      "input: tensor([43,  1, 51, 39, 63,  1, 40]) target: 43\n",
      "input: tensor([43,  1, 51, 39, 63,  1, 40, 43]) target: 1\n",
      "input: tensor([58]) target: 46\n",
      "input: tensor([58, 46]) target: 43\n",
      "input: tensor([58, 46, 43]) target: 1\n",
      "input: tensor([58, 46, 43,  1]) target: 43\n",
      "input: tensor([58, 46, 43,  1, 43]) target: 39\n",
      "input: tensor([58, 46, 43,  1, 43, 39]) target: 56\n",
      "input: tensor([58, 46, 43,  1, 43, 39, 56]) target: 57\n",
      "input: tensor([58, 46, 43,  1, 43, 39, 56, 57]) target: 10\n",
      "input: tensor([39]) target: 58\n",
      "input: tensor([39, 58]) target: 47\n",
      "input: tensor([39, 58, 47]) target: 53\n",
      "input: tensor([39, 58, 47, 53]) target: 52\n",
      "input: tensor([39, 58, 47, 53, 52]) target: 12\n",
      "input: tensor([39, 58, 47, 53, 52, 12]) target: 1\n",
      "input: tensor([39, 58, 47, 53, 52, 12,  1]) target: 37\n",
      "input: tensor([39, 58, 47, 53, 52, 12,  1, 37]) target: 53\n",
      "input: tensor([53]) target: 56\n",
      "input: tensor([53, 56]) target: 43\n",
      "input: tensor([53, 56, 43]) target: 1\n",
      "input: tensor([53, 56, 43,  1]) target: 21\n",
      "input: tensor([53, 56, 43,  1, 21]) target: 1\n",
      "input: tensor([53, 56, 43,  1, 21,  1]) target: 41\n",
      "input: tensor([53, 56, 43,  1, 21,  1, 41]) target: 39\n",
      "input: tensor([53, 56, 43,  1, 21,  1, 41, 39]) target: 51\n",
      "input: tensor([50]) target: 39\n",
      "input: tensor([50, 39]) target: 52\n",
      "input: tensor([50, 39, 52]) target: 63\n",
      "input: tensor([50, 39, 52, 63]) target: 1\n",
      "input: tensor([50, 39, 52, 63,  1]) target: 47\n",
      "input: tensor([50, 39, 52, 63,  1, 47]) target: 58\n",
      "input: tensor([50, 39, 52, 63,  1, 47, 58]) target: 57\n",
      "input: tensor([50, 39, 52, 63,  1, 47, 58, 57]) target: 43\n",
      "input: tensor([56]) target: 53\n",
      "input: tensor([56, 53]) target: 63\n",
      "input: tensor([56, 53, 63]) target: 1\n",
      "input: tensor([56, 53, 63,  1]) target: 42\n",
      "input: tensor([56, 53, 63,  1, 42]) target: 47\n",
      "input: tensor([56, 53, 63,  1, 42, 47]) target: 42\n",
      "input: tensor([56, 53, 63,  1, 42, 47, 42]) target: 1\n",
      "input: tensor([56, 53, 63,  1, 42, 47, 42,  1]) target: 57\n",
      "input: tensor([39]) target: 51\n",
      "input: tensor([39, 51]) target: 1\n",
      "input: tensor([39, 51,  1]) target: 39\n",
      "input: tensor([39, 51,  1, 39]) target: 44\n",
      "input: tensor([39, 51,  1, 39, 44]) target: 56\n",
      "input: tensor([39, 51,  1, 39, 44, 56]) target: 39\n",
      "input: tensor([39, 51,  1, 39, 44, 56, 39]) target: 47\n",
      "input: tensor([39, 51,  1, 39, 44, 56, 39, 47]) target: 42\n",
      "input: tensor([17]) target: 24\n",
      "input: tensor([17, 24]) target: 21\n",
      "input: tensor([17, 24, 21]) target: 38\n",
      "input: tensor([17, 24, 21, 38]) target: 13\n",
      "input: tensor([17, 24, 21, 38, 13]) target: 14\n",
      "input: tensor([17, 24, 21, 38, 13, 14]) target: 17\n",
      "input: tensor([17, 24, 21, 38, 13, 14, 17]) target: 32\n",
      "input: tensor([17, 24, 21, 38, 13, 14, 17, 32]) target: 20\n",
      "input: tensor([1]) target: 39\n",
      "input: tensor([ 1, 39]) target: 52\n",
      "input: tensor([ 1, 39, 52]) target: 42\n",
      "input: tensor([ 1, 39, 52, 42]) target: 1\n",
      "input: tensor([ 1, 39, 52, 42,  1]) target: 45\n",
      "input: tensor([ 1, 39, 52, 42,  1, 45]) target: 43\n",
      "input: tensor([ 1, 39, 52, 42,  1, 45, 43]) target: 50\n",
      "input: tensor([ 1, 39, 52, 42,  1, 45, 43, 50]) target: 42\n",
      "input: tensor([1]) target: 58\n",
      "input: tensor([ 1, 58]) target: 46\n",
      "input: tensor([ 1, 58, 46]) target: 39\n",
      "input: tensor([ 1, 58, 46, 39]) target: 58\n",
      "input: tensor([ 1, 58, 46, 39, 58]) target: 1\n",
      "input: tensor([ 1, 58, 46, 39, 58,  1]) target: 42\n",
      "input: tensor([ 1, 58, 46, 39, 58,  1, 42]) target: 53\n",
      "input: tensor([ 1, 58, 46, 39, 58,  1, 42, 53]) target: 1\n",
      "input: tensor([1]) target: 61\n",
      "input: tensor([ 1, 61]) target: 53\n",
      "input: tensor([ 1, 61, 53]) target: 59\n",
      "input: tensor([ 1, 61, 53, 59]) target: 50\n",
      "input: tensor([ 1, 61, 53, 59, 50]) target: 42\n",
      "input: tensor([ 1, 61, 53, 59, 50, 42]) target: 1\n",
      "input: tensor([ 1, 61, 53, 59, 50, 42,  1]) target: 21\n",
      "input: tensor([ 1, 61, 53, 59, 50, 42,  1, 21]) target: 1\n",
      "input: tensor([59]) target: 57\n",
      "input: tensor([59, 57]) target: 40\n",
      "input: tensor([59, 57, 40]) target: 39\n",
      "input: tensor([59, 57, 40, 39]) target: 52\n",
      "input: tensor([59, 57, 40, 39, 52]) target: 42\n",
      "input: tensor([59, 57, 40, 39, 52, 42]) target: 1\n",
      "input: tensor([59, 57, 40, 39, 52, 42,  1]) target: 40\n",
      "input: tensor([59, 57, 40, 39, 52, 42,  1, 40]) target: 47\n",
      "input: tensor([52]) target: 42\n",
      "input: tensor([52, 42]) target: 8\n",
      "input: tensor([52, 42,  8]) target: 0\n",
      "input: tensor([52, 42,  8,  0]) target: 0\n",
      "input: tensor([52, 42,  8,  0,  0]) target: 23\n",
      "input: tensor([52, 42,  8,  0,  0, 23]) target: 21\n",
      "input: tensor([52, 42,  8,  0,  0, 23, 21]) target: 26\n",
      "input: tensor([52, 42,  8,  0,  0, 23, 21, 26]) target: 19\n",
      "input: tensor([45]) target: 53\n",
      "input: tensor([45, 53]) target: 42\n",
      "input: tensor([45, 53, 42]) target: 57\n",
      "input: tensor([45, 53, 42, 57]) target: 0\n",
      "input: tensor([45, 53, 42, 57,  0]) target: 23\n",
      "input: tensor([45, 53, 42, 57,  0, 23]) target: 43\n",
      "input: tensor([45, 53, 42, 57,  0, 23, 43]) target: 43\n",
      "input: tensor([45, 53, 42, 57,  0, 23, 43, 43]) target: 54\n",
      "input: tensor([52]) target: 1\n",
      "input: tensor([52,  1]) target: 61\n",
      "input: tensor([52,  1, 61]) target: 39\n",
      "input: tensor([52,  1, 61, 39]) target: 57\n",
      "input: tensor([52,  1, 61, 39, 57]) target: 1\n",
      "input: tensor([52,  1, 61, 39, 57,  1]) target: 51\n",
      "input: tensor([52,  1, 61, 39, 57,  1, 51]) target: 53\n",
      "input: tensor([52,  1, 61, 39, 57,  1, 51, 53]) target: 56\n",
      "input: tensor([39]) target: 49\n",
      "input: tensor([39, 49]) target: 12\n",
      "input: tensor([39, 49, 12]) target: 1\n",
      "input: tensor([39, 49, 12,  1]) target: 27\n",
      "input: tensor([39, 49, 12,  1, 27]) target: 1\n",
      "input: tensor([39, 49, 12,  1, 27,  1]) target: 58\n",
      "input: tensor([39, 49, 12,  1, 27,  1, 58]) target: 56\n",
      "input: tensor([39, 49, 12,  1, 27,  1, 58, 56]) target: 39\n",
      "input: tensor([53]) target: 44\n",
      "input: tensor([53, 44]) target: 1\n",
      "input: tensor([53, 44,  1]) target: 57\n",
      "input: tensor([53, 44,  1, 57]) target: 54\n",
      "input: tensor([53, 44,  1, 57, 54]) target: 43\n",
      "input: tensor([53, 44,  1, 57, 54, 43]) target: 43\n",
      "input: tensor([53, 44,  1, 57, 54, 43, 43]) target: 41\n",
      "input: tensor([53, 44,  1, 57, 54, 43, 43, 41]) target: 46\n",
      "input: tensor([57]) target: 53\n",
      "input: tensor([57, 53]) target: 52\n",
      "input: tensor([57, 53, 52]) target: 57\n",
      "input: tensor([57, 53, 52, 57]) target: 8\n",
      "input: tensor([57, 53, 52, 57,  8]) target: 0\n",
      "input: tensor([57, 53, 52, 57,  8,  0]) target: 0\n",
      "input: tensor([57, 53, 52, 57,  8,  0,  0]) target: 25\n",
      "input: tensor([57, 53, 52, 57,  8,  0,  0, 25]) target: 17\n",
      "input: tensor([1]) target: 42\n",
      "input: tensor([ 1, 42]) target: 43\n",
      "input: tensor([ 1, 42, 43]) target: 44\n",
      "input: tensor([ 1, 42, 43, 44]) target: 43\n",
      "input: tensor([ 1, 42, 43, 44, 43]) target: 41\n",
      "input: tensor([ 1, 42, 43, 44, 43, 41]) target: 58\n",
      "input: tensor([ 1, 42, 43, 44, 43, 41, 58]) target: 1\n",
      "input: tensor([ 1, 42, 43, 44, 43, 41, 58,  1]) target: 53\n",
      "input: tensor([21]) target: 1\n",
      "input: tensor([21,  1]) target: 61\n",
      "input: tensor([21,  1, 61]) target: 39\n",
      "input: tensor([21,  1, 61, 39]) target: 52\n",
      "input: tensor([21,  1, 61, 39, 52]) target: 42\n",
      "input: tensor([21,  1, 61, 39, 52, 42]) target: 43\n",
      "input: tensor([21,  1, 61, 39, 52, 42, 43]) target: 56\n",
      "input: tensor([21,  1, 61, 39, 52, 42, 43, 56]) target: 6\n",
      "input: tensor([43]) target: 43\n",
      "input: tensor([43, 43]) target: 51\n",
      "input: tensor([43, 43, 51]) target: 5\n",
      "input: tensor([43, 43, 51,  5]) target: 42\n",
      "input: tensor([43, 43, 51,  5, 42]) target: 1\n",
      "input: tensor([43, 43, 51,  5, 42,  1]) target: 40\n",
      "input: tensor([43, 43, 51,  5, 42,  1, 40]) target: 59\n",
      "input: tensor([43, 43, 51,  5, 42,  1, 40, 59]) target: 56\n",
      "input: tensor([45]) target: 50\n",
      "input: tensor([45, 50]) target: 63\n",
      "input: tensor([45, 50, 63]) target: 1\n",
      "input: tensor([45, 50, 63,  1]) target: 52\n",
      "input: tensor([45, 50, 63,  1, 52]) target: 53\n",
      "input: tensor([45, 50, 63,  1, 52, 53]) target: 61\n",
      "input: tensor([45, 50, 63,  1, 52, 53, 61]) target: 12\n",
      "input: tensor([45, 50, 63,  1, 52, 53, 61, 12]) target: 0\n",
      "input: tensor([52]) target: 53\n",
      "input: tensor([52, 53]) target: 58\n",
      "input: tensor([52, 53, 58]) target: 8\n",
      "input: tensor([52, 53, 58,  8]) target: 0\n",
      "input: tensor([52, 53, 58,  8,  0]) target: 25\n",
      "input: tensor([52, 53, 58,  8,  0, 25]) target: 63\n",
      "input: tensor([52, 53, 58,  8,  0, 25, 63]) target: 1\n",
      "input: tensor([52, 53, 58,  8,  0, 25, 63,  1]) target: 61\n",
      "input: tensor([53]) target: 58\n",
      "input: tensor([53, 58]) target: 6\n",
      "input: tensor([53, 58,  6]) target: 1\n",
      "input: tensor([53, 58,  6,  1]) target: 51\n",
      "input: tensor([53, 58,  6,  1, 51]) target: 63\n",
      "input: tensor([53, 58,  6,  1, 51, 63]) target: 1\n",
      "input: tensor([53, 58,  6,  1, 51, 63,  1]) target: 50\n",
      "input: tensor([53, 58,  6,  1, 51, 63,  1, 50]) target: 53\n"
     ]
    }
   ],
   "source": [
    "torch.manual_seed(1337)\n",
    "batch_size = 32\n",
    "block_size = 8\n",
    "\n",
    "def get_batch(split):\n",
    "    data = train_data if split == 'train' else val_data\n",
    "    ix = torch.randint(len(data) - block_size , (batch_size, ))\n",
    "    x = torch.stack([data[i : i + block_size] for i in ix])\n",
    "    y = torch.stack([data[i + 1 : i + block_size + 1] for i in ix])\n",
    "    return x, y\n",
    "\n",
    "xb , yb = get_batch('train')\n",
    "\n",
    "for b in range(batch_size):\n",
    "    for t in range(block_size):\n",
    "        context = xb[b, :t + 1]\n",
    "        target = yb[b, t]\n",
    "        print(f\"input: {context} target: {target}\")\n",
    "        "
   ]
  },
  {
   "cell_type": "code",
   "execution_count": 40,
   "id": "5f0f9cfb",
   "metadata": {},
   "outputs": [],
   "source": [
    "import torch.nn as nn\n",
    "import torch.nn.functional as F\n",
    "import torch \n",
    "\n",
    "torch.manual_seed(1338)\n",
    "\n",
    "class BigramLanguageModel(nn.Module):\n",
    "    \n",
    "    def __init__(self , vocab_size):\n",
    "        \n",
    "        super().__init__()\n",
    "        self.token_embedding_table = nn.Embedding(vocab_size , vocab_size)\n",
    "        \n",
    "    def forward(self , idx , targets = None):\n",
    "        \n",
    "        logits = self.token_embedding_table(idx)\n",
    "        \n",
    "        \n",
    "        if targets is None: \n",
    "            loss = None\n",
    "\n",
    "        else :       \n",
    "            B , T , C = logits.shape \n",
    "            logits = logits.view(B* T , C)\n",
    "            targets = targets.view(B*T)\n",
    "            loss = F.cross_entropy(logits , targets)\n",
    "        return logits , loss\n",
    "    \n",
    "    \n",
    "    def generate(self , idx , max_new_tokens):\n",
    "        \n",
    "        for _ in range(max_new_tokens):\n",
    "            logits , loss = self(idx)\n",
    "            #print(f\"LOGITS shape : {logits.shape}\")\n",
    "            logits = logits[:, -1 , :]\n",
    "           # print(logits.shape)\n",
    "            \n",
    "            probs = F.softmax(logits , dim = -1)\n",
    "            idx_next = torch.multinomial(probs , num_samples=1)\n",
    "            \n",
    "            idx = torch.cat((idx , idx_next) , dim = 1)\n",
    "        return idx\n",
    "        \n",
    "    \n",
    "model = BigramLanguageModel(vocab_size)\n",
    "logits , loss  = model(xb , yb)\n"
   ]
  },
  {
   "cell_type": "code",
   "execution_count": 41,
   "id": "5eb63743",
   "metadata": {},
   "outputs": [
    {
     "data": {
      "text/plain": [
       "torch.Size([256, 65])"
      ]
     },
     "execution_count": 41,
     "metadata": {},
     "output_type": "execute_result"
    }
   ],
   "source": [
    "logits.shape"
   ]
  },
  {
   "cell_type": "code",
   "execution_count": 42,
   "id": "115a830a",
   "metadata": {},
   "outputs": [
    {
     "data": {
      "text/plain": [
       "tensor(4.5925, grad_fn=<NllLossBackward0>)"
      ]
     },
     "execution_count": 42,
     "metadata": {},
     "output_type": "execute_result"
    }
   ],
   "source": [
    "loss"
   ]
  },
  {
   "cell_type": "code",
   "execution_count": 44,
   "id": "2d4be896",
   "metadata": {},
   "outputs": [
    {
     "name": "stdout",
     "output_type": "stream",
     "text": [
      "\n",
      "n:$T!OS?uD;ydeTmf3h.RONMqKazzeTQjFrFx3aRMlieBpqKkSg: iSIFvnTyNUSVeyCFxvkSY.;NYC;N&'r$t,Db?jFS?MVrkO3\n"
     ]
    }
   ],
   "source": [
    "print(decode(model.generate(idx = torch.zeros((1 , 1) , dtype = torch.long) , max_new_tokens = 100)[0].tolist()))"
   ]
  },
  {
   "cell_type": "code",
   "execution_count": 45,
   "id": "62b48113",
   "metadata": {},
   "outputs": [],
   "source": [
    "optimizer = torch.optim.AdamW(model.parameters() , lr = 1e-3)\n"
   ]
  },
  {
   "cell_type": "code",
   "execution_count": 47,
   "id": "e7c9b236",
   "metadata": {},
   "outputs": [
    {
     "name": "stdout",
     "output_type": "stream",
     "text": [
      "Loss : 2.5051445960998535\n"
     ]
    }
   ],
   "source": [
    "for steps in range(10000):\n",
    "    xb , yb = get_batch('train')\n",
    "    logits , loss = model(xb , yb)\n",
    "    optimizer.zero_grad(set_to_none=True)\n",
    "    loss.backward()\n",
    "    optimizer.step()\n",
    "    \n",
    "print(f\"Loss : {loss.item()}\")\n",
    "    "
   ]
  },
  {
   "cell_type": "code",
   "execution_count": 49,
   "id": "a09867ea",
   "metadata": {},
   "outputs": [
    {
     "name": "stdout",
     "output_type": "stream",
     "text": [
      "\n",
      "ABRGehet,\n",
      "d pevo th our weamy'\n",
      "Ar, y y oul s at,-\n",
      "Towe e bber cake ouk thathouchy beey&bewn ct t ch, Roacr\n",
      "ind the y hf WivesanrobonXHe shaitw wn,\n",
      "TII dere buk. an:\n",
      "Wat buigrean?\n",
      "THISoufoo p, s\n",
      "Fr; ut\n"
     ]
    }
   ],
   "source": [
    "print(decode(model.generate(idx = torch.zeros((1 , 1) , dtype = torch.long) , max_new_tokens = 200)[0].tolist()))"
   ]
  },
  {
   "cell_type": "code",
   "execution_count": null,
   "id": "438dbfb3",
   "metadata": {},
   "outputs": [],
   "source": []
  }
 ],
 "metadata": {
  "kernelspec": {
   "display_name": "llm",
   "language": "python",
   "name": "python3"
  },
  "language_info": {
   "codemirror_mode": {
    "name": "ipython",
    "version": 3
   },
   "file_extension": ".py",
   "mimetype": "text/x-python",
   "name": "python",
   "nbconvert_exporter": "python",
   "pygments_lexer": "ipython3",
   "version": "3.10.16"
  }
 },
 "nbformat": 4,
 "nbformat_minor": 5
}
